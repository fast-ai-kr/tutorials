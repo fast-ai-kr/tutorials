{
 "cells": [
  {
   "cell_type": "markdown",
   "metadata": {},
   "source": [
    "# Look inside ImageDataLoaders\n",
    "> what is it? what's in it? Let's dig more inside of this handy class by looking inside of the actual source code.\n",
    "- author: \"Chansung Park\"\n",
    "- image: images/from_path_func.png\n",
    "- toc: true\n",
    "- comments: true\n",
    "- categories: [image, data, fastai]\n",
    "- permalink: /image_data_loaders/\n",
    "- badges: false\n",
    "- search_exclude: true"
   ]
  },
  {
   "cell_type": "markdown",
   "metadata": {},
   "source": [
    "## Why looking inside?\n",
    "\n",
    "There is a couple of reasons. First, `fastai` is a wonderful library. It clearly shows how it works in a high-level view. However, when you want to customize its behaviour, the official document is somewhat limited to understand behind scene. Second, `fastai` comes along with other awesome libraries such as `fastcore`. You will find very useful and clever programming usage with them. Also it helps you to have strong programability."
   ]
  },
  {
   "cell_type": "markdown",
   "metadata": {},
   "source": [
    "## Let's see the definition\n",
    "Basic wrapper around several **`DataLoader`**s with factory methods for computer vision problems. Don't be bothered by **`delegates`** thing for now. I will explain what it is shortly.\n",
    "\n",
    "In a nutshell, ImageDataLoaders provides a set of handy class methods to define a set of datasets to be fed into a model. As the plural form of the name indicates, it contains more than one dataset which means multiple datasets such as training/validation/test could be managed in one place."
   ]
  },
  {
   "cell_type": "markdown",
   "metadata": {},
   "source": [
    "```python\n",
    "class ImageDataLoaders(DataLoaders):\n",
    "    @classmethod\n",
    "    @delegates(DataLoaders.from_dblock)\n",
    "    def from_folder(...)\n",
    "\n",
    "    @classmethod\n",
    "    @delegates(DataLoaders.from_dblock)\n",
    "    def from_path_func(...)\n",
    "\n",
    "    @classmethod\n",
    "    def from_name_func(...)\n",
    "\n",
    "    @classmethod\n",
    "    def from_path_re(...)\n",
    "    \n",
    "    @classmethod\n",
    "    @delegates(DataLoaders.from_dblock)\n",
    "    def from_name_re(...)\n",
    "\n",
    "    @classmethod\n",
    "    @delegates(DataLoaders.from_dblock)\n",
    "    def from_df(...)\n",
    "\n",
    "    @classmethod\n",
    "    def from_csv(...)\n",
    "\n",
    "    @classmethod\n",
    "    @delegates(DataLoaders.from_dblock)\n",
    "    def from_lists(...)\n",
    "```"
   ]
  },
  {
   "cell_type": "markdown",
   "metadata": {},
   "source": [
    "\n",
    "![from_path_func](ImageDataLoaders/from_path_func.png)\n",
    "[ ImageDataLoaders.from_path_func ]\n",
    "\n",
    "The name of each class methods explains itself pretty much. However, just remember, those suffixes **`_xxx`** simply means how you would like to define labels for each data. For instance, **`from_folder`** defines labels of each data by looking up the name of folders. **`from_path_func`** provides more flexible way than **`from_folder`**. Instead of specifying the folder name, we can actually write a function to extract which part of the path name should be used for labeling.\n",
    "- with **`from_folder`**, the directory structure should strictly follow like below (the folder name for training/validation could be changed).\n",
    "```\n",
    "  - top_director - training\n",
    "                 - validation\n",
    "```\n",
    "- when the directory structure is like below, **`from_folder`** can't be used. But you could parse the part of path name to be used as labels via **`from_path_func`**.\n",
    "```\n",
    "  - top_directory - training - training\n",
    "                  - validation - validation\n",
    "```\n",
    "  - this examples looks silly, but you will soon realize there are many datasets structured in this way. You could either move the files into the parent directory or just simply use **`from_path_func`**.\n",
    "\n",
    "Another cool method is **`from_path_re`**. It lets you to define labels by leveraging the power of regular expression. Even though you could implement your own regex paring logic in **`from_path_func`**, you could avoid from somewhat annoying boilerplates to set up regex with **`from_path_re`**. "
   ]
  },
  {
   "cell_type": "markdown",
   "metadata": {},
   "source": [
    "### Each methods\n",
    "\n",
    "This cell provides a complete description of each class methods scrapped from the official document.\n",
    "\n",
    "- **from_folder(...)**\n",
    "  - Create from imagenet style dataset in `path` with `train` and `valid` subfolders (or provide `valid_pct`)\n",
    "- **from_path_func(...)**\n",
    "  - Create from list of `fnames` in `path`s with `label_func`\n",
    "- **from_name_func(...)**\n",
    "  - Create from the name attrs of `fnames` in `path`s with `label_func`\n",
    "- **from_path_re(...)**\n",
    "  - Create from list of `fnames` in `path`s with re expression `pat`\n",
    "- **from_name_re(...)**\n",
    "  - Create from the name attrs of `fnames` in `path`s with re expression `pat`\n",
    "- **from_df(...)**\n",
    "  - Create from `df` using `fn_col` and `label_col`\n",
    "- **from_csv(...)**\n",
    "  - Create from `path/csv_fname` using `fn_col` and `label_col`\n",
    "- **from_lists(...)**\n",
    "  - Create from list of `fnames` and `labels` in `path`"
   ]
  },
  {
   "cell_type": "markdown",
   "metadata": {},
   "source": [
    "### Example usage with `from_path_func`\n",
    "The example below is borrowed from [fastai official document](https://docs.fast.ai/vision.data.html#ImageDataLoaders.from_path_func).\n",
    "\n",
    "```python\n",
    "path = 'top directory'\n",
    "fnames = 'list of files'\n",
    "\n",
    "def label_func(x): \n",
    "    return x.parent.name\n",
    "\n",
    "dls = ImageDataLoaders.from_path_func(path = path,\n",
    "                                      fnames = fnames, \n",
    "                                      label_func = label_func)\n",
    "```\n",
    "\n",
    "**`from_path_func`** takes three parameters. The **`path`** is the path of the root directory of the project. **`fnames`** is a list containing all data files. It doesn't matter to include files stored in different sub-directories. Which file should belong to which label is determined via **`1abel_func`** function .\n",
    "\n",
    "Let's look inside the **`label_func`** function. It is clear that it returns the name of the parent directory. For instance, if the path of a file is like **`datasets/train/image1.png`**, the label func will return **`train`** as the label for the **`image1.png`**."
   ]
  },
  {
   "cell_type": "markdown",
   "metadata": {},
   "source": [
    "## Let's look inside one of them, `from_folder(...)`"
   ]
  },
  {
   "cell_type": "markdown",
   "metadata": {},
   "source": [
    "```python\n",
    "    @classmethod\n",
    "    @delegates(DataLoaders.from_dblock)\n",
    "    def from_folder(cls, path, \n",
    "                    train='train', valid='valid', \n",
    "                    valid_pct=None, seed=None, vocab=None, \n",
    "                    item_tfms=None, batch_tfms=None, **kwargs):\n",
    "        \n",
    "        splitter = GrandparentSplitter(train_name=train, valid_name=valid) \\\n",
    "                   if valid_pct is None \\\n",
    "                   else RandomSplitter(valid_pct, seed=seed)\n",
    "        \n",
    "        get_items = get_image_files \\\n",
    "                    if valid_pct \\\n",
    "                    else partial(get_image_files, folders=[train, valid])\n",
    "                \n",
    "        dblock = DataBlock(blocks=(ImageBlock, CategoryBlock(vocab=vocab)),\n",
    "                           get_items=get_items,\n",
    "                           splitter=splitter,\n",
    "                           get_y=parent_label,\n",
    "                           item_tfms=item_tfms,\n",
    "                           batch_tfms=batch_tfms)\n",
    "        \n",
    "        return cls.from_dblock(dblock, path, path=path, **kwargs)\n",
    "```"
   ]
  },
  {
   "cell_type": "markdown",
   "metadata": {},
   "source": [
    "### GrandparentSplitter function\n",
    "\n",
    "![grandparent splitter](ImageDataLoaders/grandparentsplitter.png)\n",
    "[ what does GrandparentSplitter really returns? ]\n",
    "\n",
    "**`GrandparentSplitter`** is a function that returns diffrent function. It's like you call a function, then you get another function from that call. The returning function is defined as **`_inner`**, but when you assign the returning function to a variable, that variable's name becomes the actual function name.\n",
    "\n",
    "```python\n",
    "my_func = GrandparentSplitter()\n",
    "my_func(...)\n",
    "```\n",
    "\n",
    "In the above example code, even though the defined function name is **`_inner`**, the variable name, **`my_func`** delegates the function **`_inner`**.\n",
    "\n",
    "So, what **`GrandparentSplitter`** really does is to return another function. I will call it as **`G._inner`** for convinience. So, the real question gets down to what's the job of **`G._inner`** function."
   ]
  },
  {
   "cell_type": "markdown",
   "metadata": {},
   "source": [
    "```python\n",
    "def _grandparent_idxs(items, name):\n",
    "    def _inner(items, name): \n",
    "        return mask2idxs(Path(o).parent.parent.name == name for o in items)\n",
    "    return [i for n in L(name) for i in _inner(items,n)]\n",
    "\n",
    "def GrandparentSplitter(train_name='train', valid_name='valid'):\n",
    "    \"Split `items` from the grand parent folder names (`train_name` and `valid_name`).\"\n",
    "    def _inner(o):\n",
    "        return _grandparent_idxs(o, train_name),_grandparent_idxs(o, valid_name)\n",
    "    return _inner\n",
    "```"
   ]
  },
  {
   "cell_type": "markdown",
   "metadata": {},
   "source": [
    "**`G._inner`** takes only one argument, **`o`**. However, it uses parameters passed from **`GrandparentSplitter`** as well. That is something called as ***closer***. If you are interested in, please search for it. \n",
    "\n",
    "Don't be bothered by the argument name **`o`** in **`G._inner`**. It simply means items, and the items here means every files, trainining or validation data files are listed up together. \n",
    "\n",
    "Now, **`G._inner`** returns two functions of the same type, **`_grandparent_idxs`**. Because when we call **`GrandparentSplitter`**, it will return **`G._inner`**, and when **`G._inner`** is called, it will return two **`_grandparent_idxs`** functions, the behaviour of **`_grandparent_idxs`** is what we really want to know.\n",
    "\n",
    "**my thoughts**\n",
    "- **`GrandparentSplitter`** is nothing but a utility function to provide another function to let you grasp the list of indicies for training and validation datasets.\n",
    "- We can create our own splitter. It is quite simple.\n",
    "  - define a function\n",
    "  - make sure the function returns two sets of lists\n",
    "  - make sure each list contains indicies of files (not the filename or something)\n",
    "  - use handy `mask2idx` function to filter which file belongs to which dataset\n",
    "  \n",
    "I should also mention about `mask2idx` function. It takes a list of booleans, and it returns a list of integers which indicate the index where the boolean value is `True`. So this is exactly what we need to get the list of indicies!"
   ]
  },
  {
   "cell_type": "markdown",
   "metadata": {},
   "source": [
    "### partial( get_image_files, folders=[train, valid] )"
   ]
  },
  {
   "cell_type": "markdown",
   "metadata": {},
   "source": [
    "In order to understand this part, you should understand what `partial` is first. `partial` is a great way to define a new function derived from an existing one by substituting values of arguments.\n",
    "\n",
    "Below shows what `get_image_files` function looks like:\n",
    "```python\n",
    "def get_image_files(path, recurse=True, folders=None):\n",
    "    \"Get image files in `path` recursively, only in `folders`, if specified.\"\n",
    "    return get_files(path, extensions=image_extensions, recurse=recurse, folders=folders)\n",
    "```\n",
    "\n",
    "As you can see, `get_image_files` has trhee arguments including `folders` whose default value is `None`. However, when we do `new_func = partial( get_image_files, folders=[train, valid] )` this, it returns a new form of function like\n",
    "```python\n",
    "def get_image_files(path, recurse=True):\n",
    "    \"Get image files in `path` recursively, only in `folders`, if specified.\"\n",
    "    return get_files(path, extensions=image_extensions, recurse=recurse, folders=[train, valid])\n",
    "```\n",
    "\n",
    "From this point, we just can call `new_func()` without passing values into `folders` anymore.\n",
    "\n",
    "**why need `partial`?**\n",
    "- Remember `partial` gives you a new template of a function. It doesn't call the function with different values. Without `partial` we should explicitly call the function with specific values where we actually need to call. Lots of conditionaly statements may be required. "
   ]
  },
  {
   "cell_type": "markdown",
   "metadata": {},
   "source": [
    "### get_image_files\n",
    "\n",
    "`get_image_files` gets all image type files under specified folders. It recursively collectes files in the sub-directories as well. The targeting image file extensions are all image types defined in `memetypes`. The following block shows what are they:\n",
    "\n",
    "```python\n",
    "    types_map = { # from Python's official source file\n",
    "                  # https://svn.python.org/projects/python/trunk/Lib/mimetypes.py\n",
    "        '.bmp'    : 'image/x-ms-bmp',\n",
    "        '.gif'    : 'image/gif',\n",
    "        '.ief'    : 'image/ief',\n",
    "        '.jpe'    : 'image/jpeg',\n",
    "        '.jpeg'   : 'image/jpeg',\n",
    "        '.jpg'    : 'image/jpeg',\n",
    "        '.pbm'    : 'image/x-portable-bitmap',\n",
    "        '.pgm'    : 'image/x-portable-graymap',\n",
    "        '.png'    : 'image/png',\n",
    "        '.pnm'    : 'image/x-portable-anymap',\n",
    "        '.ppm'    : 'image/x-portable-pixmap',\n",
    "        '.ras'    : 'image/x-cmu-raster',\n",
    "        '.rgb'    : 'image/x-rgb',\n",
    "        '.tif'    : 'image/tiff',\n",
    "        '.tiff'   : 'image/tiff',\n",
    "        '.xbm'    : 'image/x-xbitmap',\n",
    "        '.xpm'    : 'image/x-xpixmap',\n",
    "        '.xwd'    : 'image/x-xwindowdump',\n",
    "        }\n",
    "```\n",
    "\n",
    "In `get_image_files(folders=['train', 'valid'])` case, it looks for every image files under `train` and `valid` folders, and return the list of identified image files."
   ]
  },
  {
   "cell_type": "markdown",
   "metadata": {},
   "source": [
    "### DataBlock"
   ]
  },
  {
   "cell_type": "markdown",
   "metadata": {},
   "source": [
    "### `@delegates` decorator"
   ]
  },
  {
   "cell_type": "markdown",
   "metadata": {},
   "source": [
    "`@delegates` is a decorator from `fastcore` package. It delegates all the parameters/arguments from a function specified in `(...)`. It even covers `**kwargs`.\n",
    "- If you actually print out `from_folder`, `**kwargs` things will be revealed/demystified.\n",
    "- please look at the picture below borrowed from [fastcore: An Underrated Python Library](https://fastpages.fast.ai/fastcore/) by [Hamel Husain](https://twitter.com/HamelHusain)\n",
    "\n",
    "![delegates](ImageDataLoaders/delegates.png)"
   ]
  },
  {
   "cell_type": "code",
   "execution_count": null,
   "metadata": {},
   "outputs": [],
   "source": []
  }
 ],
 "metadata": {
  "kernelspec": {
   "display_name": "Python 3",
   "language": "python",
   "name": "python3"
  },
  "language_info": {
   "codemirror_mode": {
    "name": "ipython",
    "version": 3
   },
   "file_extension": ".py",
   "mimetype": "text/x-python",
   "name": "python",
   "nbconvert_exporter": "python",
   "pygments_lexer": "ipython3",
   "version": "3.7.5"
  }
 },
 "nbformat": 4,
 "nbformat_minor": 4
}
