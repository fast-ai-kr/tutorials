{
 "cells": [
  {
   "cell_type": "markdown",
   "metadata": {},
   "source": [
    "# Look inside ImageDataLoaders\n",
    "> what is it? what's in it? Let's dig more inside of this handy class by looking inside of the actual source code.\n",
    "- author: \"Chansung Park\"\n",
    "- image: images/ImageDataLoaders/from_path_func.png\n",
    "- image: images/disney/td.png\n",
    "- toc: true\n",
    "- comments: true\n",
    "- categories: [image, data, fastai]\n",
    "- permalink: /image_data_loaders/\n",
    "- badges: false\n",
    "- search_exclude: true"
   ]
  },
  {
   "cell_type": "markdown",
   "metadata": {},
   "source": [
    "![from_path_func](ImageDataLoaders/from_path_func.png)\n",
    "[ ImageDataLoaders.from_path_func ]"
   ]
  },
  {
   "cell_type": "markdown",
   "metadata": {},
   "source": [
    "# Let's see the definition\n",
    "Basic wrapper around several **`DataLoader`**s with factory methods for computer vision problems. Don't be bothered by **`delegates`** thing for now. I will explain what it is shortly.\n",
    "\n",
    "In a nutshell, ImageDataLoaders provides a set of handy class methods to define a set of datasets to be fed into a model. As the plural form of the name indicates, it contains more than one dataset which means multiple datasets such as training/validation/test could be managed in one place."
   ]
  },
  {
   "cell_type": "markdown",
   "metadata": {},
   "source": [
    "```python\n",
    "class ImageDataLoaders(DataLoaders):\n",
    "    @classmethod\n",
    "    @delegates(DataLoaders.from_dblock)\n",
    "    def from_folder(...)\n",
    "\n",
    "    @classmethod\n",
    "    @delegates(DataLoaders.from_dblock)\n",
    "    def from_path_func(...)\n",
    "\n",
    "    @classmethod\n",
    "    def from_name_func(...)\n",
    "\n",
    "    @classmethod\n",
    "    def from_path_re(...)\n",
    "    \n",
    "    @classmethod\n",
    "    @delegates(DataLoaders.from_dblock)\n",
    "    def from_name_re(...)\n",
    "\n",
    "    @classmethod\n",
    "    @delegates(DataLoaders.from_dblock)\n",
    "    def from_df(...)\n",
    "\n",
    "    @classmethod\n",
    "    def from_csv(...)\n",
    "\n",
    "    @classmethod\n",
    "    @delegates(DataLoaders.from_dblock)\n",
    "    def from_lists(...)\n",
    "```"
   ]
  },
  {
   "cell_type": "markdown",
   "metadata": {},
   "source": [
    "\n",
    "The name of each class methods explains itself pretty much. However, just remember, those suffixes **`_xxx`** simply means how you would like to define labels for each data. For instance, **`from_folder`** defines labels of each data by looking up the name of folders. **`from_path_func`** provides more flexible way than **`from_folder`**. Instead of specifying the folder name, we can actually write a function to extract which part of the path name should be used for labeling.\n",
    "- with **`from_folder`**, the directory structure should strictly follow like below (the folder name for training/validation could be changed).\n",
    "```\n",
    "  - top_director - training\n",
    "                 - validation\n",
    "```\n",
    "- when the directory structure is like below, **`from_folder`** can't be used. But you could parse the part of path name to be used as labels via **`from_path_func`**.\n",
    "```\n",
    "  - top_directory - training - training\n",
    "                  - validation - validation\n",
    "```\n",
    "  - this examples looks silly, but you will soon realize there are many datasets structured in this way. You could either move the files into the parent directory or just simply use **`from_path_func`**.\n",
    "\n",
    "Another cool method is **`from_path_re`**. It lets you to define labels by leveraging the power of regular expression. Even though you could implement your own regex paring logic in **`from_path_func`**, you could avoid from somewhat annoying boilerplates to set up regex with **`from_path_re`**. "
   ]
  },
  {
   "cell_type": "markdown",
   "metadata": {},
   "source": [
    "## Each methods\n",
    "\n",
    "This cell provides a complete description of each class methods scrapped from the official document.\n",
    "\n",
    "- **from_folder(...)**\n",
    "  - Create from imagenet style dataset in `path` with `train` and `valid` subfolders (or provide `valid_pct`)\n",
    "- **from_path_func(...)**\n",
    "  - Create from list of `fnames` in `path`s with `label_func`\n",
    "- **from_name_func(...)**\n",
    "  - Create from the name attrs of `fnames` in `path`s with `label_func`\n",
    "- **from_path_re(...)**\n",
    "  - Create from list of `fnames` in `path`s with re expression `pat`\n",
    "- **from_name_re(...)**\n",
    "  - Create from the name attrs of `fnames` in `path`s with re expression `pat`\n",
    "- **from_df(...)**\n",
    "  - Create from `df` using `fn_col` and `label_col`\n",
    "- **from_csv(...)**\n",
    "  - Create from `path/csv_fname` using `fn_col` and `label_col`\n",
    "- **from_lists(...)**\n",
    "  - Create from list of `fnames` and `labels` in `path`"
   ]
  },
  {
   "cell_type": "markdown",
   "metadata": {},
   "source": [
    "## Example usage with `from_path_func`\n",
    "The example below is borrowed from [fastai official document](https://docs.fast.ai/vision.data.html#ImageDataLoaders.from_path_func).\n",
    "\n",
    "```python\n",
    "path = 'top directory'\n",
    "fnames = 'list of files'\n",
    "\n",
    "def label_func(x): \n",
    "    return x.parent.name\n",
    "\n",
    "dls = ImageDataLoaders.from_path_func(path = path,\n",
    "                                      fnames = fnames, \n",
    "                                      label_func = label_func)\n",
    "```\n",
    "\n",
    "**`from_path_func`** takes three parameters. The **`path`** is the path of the root directory of the project. **`fnames`** is a list containing all data files. It doesn't matter to include files stored in different sub-directories. Which file should belong to which label is determined via **`1abel_func`** function .\n",
    "\n",
    "Let's look inside the **`label_func`** function. It is clear that it returns the name of the parent directory. For instance, if the path of a file is like **`datasets/train/image1.png`**, the label func will return **`train`** as the label for the **`image1.png`**."
   ]
  },
  {
   "cell_type": "markdown",
   "metadata": {},
   "source": [
    "# Let's look inside one of them, `from_folder(...)`"
   ]
  },
  {
   "cell_type": "markdown",
   "metadata": {},
   "source": [
    "```python\n",
    "    @classmethod\n",
    "    @delegates(DataLoaders.from_dblock)\n",
    "    def from_folder(cls, path, \n",
    "                    train='train', valid='valid', \n",
    "                    valid_pct=None, seed=None, vocab=None, \n",
    "                    item_tfms=None, batch_tfms=None, **kwargs):\n",
    "        \n",
    "        splitter = GrandparentSplitter(train_name=train, valid_name=valid) \\\n",
    "                   if valid_pct is None \\\n",
    "                   else RandomSplitter(valid_pct, seed=seed)\n",
    "        \n",
    "        get_items = get_image_files \\\n",
    "                    if valid_pct \\\n",
    "                    else partial(get_image_files, folders=[train, valid])\n",
    "                \n",
    "        dblock = DataBlock(blocks=(ImageBlock, CategoryBlock(vocab=vocab)),\n",
    "                           get_items=get_items,\n",
    "                           splitter=splitter,\n",
    "                           get_y=parent_label,\n",
    "                           item_tfms=item_tfms,\n",
    "                           batch_tfms=batch_tfms)\n",
    "        \n",
    "        return cls.from_dblock(dblock, path, path=path, **kwargs)\n",
    "```"
   ]
  },
  {
   "cell_type": "markdown",
   "metadata": {},
   "source": [
    "## GrandparentSplitter function"
   ]
  },
  {
   "cell_type": "markdown",
   "metadata": {},
   "source": [
    "```python\n",
    "def _grandparent_idxs(items, name):\n",
    "    def _inner(items, name): \n",
    "        return mask2idxs(Path(o).parent.parent.name == name for o in items)\n",
    "    return [i for n in L(name) for i in _inner(items,n)]\n",
    "\n",
    "def GrandparentSplitter(train_name='train', valid_name='valid'):\n",
    "    \"Split `items` from the grand parent folder names (`train_name` and `valid_name`).\"\n",
    "    def _inner(o):\n",
    "        return _grandparent_idxs(o, train_name),_grandparent_idxs(o, valid_name)\n",
    "    return _inner\n",
    "```"
   ]
  },
  {
   "cell_type": "markdown",
   "metadata": {},
   "source": [
    "`GrandparentSplitter` is a function that wraps up `_inner()` function defined as a nested function and returns it. `_inner()` function returns a tuple, each one returns a list of indicies marking where \n",
    "\n",
    "\n",
    "\n",
    "Then what does `_inner()` function do? It actually creates a tuple of two `_grandparent_idxs` functions. Then, we should look insde `_grandparent_idxs` function as well. It eventually calls `mask2idx` function after all.\n"
   ]
  },
  {
   "cell_type": "markdown",
   "metadata": {},
   "source": [
    "`@delegates` is a decorator from `fastcore` package. It delegates all the parameters/arguments from a function specified in `(...)`. It even covers `**kwargs`.\n",
    "- If you actually print out `from_folder`, `**kwargs` things will be revealed/demystified.\n",
    "- please look at the picture below borrowed from [fastcore: An Underrated Python Library](https://fastpages.fast.ai/fastcore/) by [Hamel Husain](https://twitter.com/HamelHusain)\n",
    "\n",
    "![delegates](ImageDataLoaders/delegates.png)"
   ]
  },
  {
   "cell_type": "code",
   "execution_count": null,
   "metadata": {},
   "outputs": [],
   "source": []
  }
 ],
 "metadata": {
  "kernelspec": {
   "display_name": "Python 3",
   "language": "python",
   "name": "python3"
  },
  "language_info": {
   "codemirror_mode": {
    "name": "ipython",
    "version": 3
   },
   "file_extension": ".py",
   "mimetype": "text/x-python",
   "name": "python",
   "nbconvert_exporter": "python",
   "pygments_lexer": "ipython3",
   "version": "3.7.4"
  }
 },
 "nbformat": 4,
 "nbformat_minor": 4
}
